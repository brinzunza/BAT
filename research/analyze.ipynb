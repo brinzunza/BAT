{
 "cells": [
  {
   "cell_type": "code",
   "execution_count": null,
   "id": "d0f4b2dd",
   "metadata": {},
   "outputs": [],
   "source": [
    "data = read_csv(\"/Users/brunoinzunza/Documents/GitHub/BAT/research/optimization_results_20251021_134357.csv\")"
   ]
  }
 ],
 "metadata": {
  "language_info": {
   "name": "python"
  }
 },
 "nbformat": 4,
 "nbformat_minor": 5
}
