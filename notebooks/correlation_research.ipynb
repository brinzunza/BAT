{
 "cells": [
  {
   "cell_type": "markdown",
   "metadata": {},
   "source": [
    "# Stock Correlation Research\n",
    "This notebook fetches stock data from Polygon API and calculates correlations between stock pairs."
   ]
  },
  {
   "cell_type": "code",
   "execution_count": null,
   "metadata": {},
   "outputs": [],
   "source": [
    "import requests\n",
    "import pandas as pd\n",
    "import numpy as np\n",
    "from datetime import datetime, timedelta\n",
    "from itertools import combinations\n",
    "import os\n",
    "from typing import List, Tuple, Dict"
   ]
  },
  {
   "cell_type": "code",
   "execution_count": null,
   "metadata": {},
   "outputs": [],
   "source": [
    "# Configuration\n",
    "POLYGON_API_KEY = os.getenv('POLYGON_API_KEY', 'YOUR_API_KEY_HERE')\n",
    "\n",
    "# List of stock symbols to analyze\n",
    "SYMBOLS = [\n",
    "    'AAPL', 'MSFT', 'GOOGL', 'AMZN', 'META',\n",
    "    'TSLA', 'NVDA', 'JPM', 'V', 'WMT',\n",
    "    'JNJ', 'PG', 'MA', 'UNH', 'HD',\n",
    "    'BAC', 'DIS', 'ADBE', 'CRM', 'NFLX'\n",
    "]\n",
    "\n",
    "# Date range for data\n",
    "END_DATE = datetime.now()\n",
    "START_DATE = END_DATE - timedelta(days=365)  # 1 year of data\n",
    "\n",
    "# Timespan for aggregation\n",
    "TIMESPAN = 'day'\n",
    "MULTIPLIER = 1"
   ]
  },
  {
   "cell_type": "code",
   "execution_count": null,
   "metadata": {},
   "outputs": [],
   "source": [
    "def fetch_stock_data(symbol: str, start_date: datetime, end_date: datetime) -> pd.DataFrame:\n",
    "    \"\"\"\n",
    "    Fetch stock data from Polygon API\n",
    "    \n",
    "    Args:\n",
    "        symbol: Stock ticker symbol\n",
    "        start_date: Start date for data\n",
    "        end_date: End date for data\n",
    "    \n",
    "    Returns:\n",
    "        DataFrame with stock price data\n",
    "    \"\"\"\n",
    "    url = f\"https://api.polygon.io/v2/aggs/ticker/{symbol}/range/{MULTIPLIER}/{TIMESPAN}/{start_date.strftime('%Y-%m-%d')}/{end_date.strftime('%Y-%m-%d')}\"\n",
    "    \n",
    "    params = {\n",
    "        'apiKey': POLYGON_API_KEY,\n",
    "        'adjusted': 'true',\n",
    "        'sort': 'asc'\n",
    "    }\n",
    "    \n",
    "    try:\n",
    "        response = requests.get(url, params=params)\n",
    "        response.raise_for_status()\n",
    "        data = response.json()\n",
    "        \n",
    "        if 'results' not in data or not data['results']:\n",
    "            print(f\"No data returned for {symbol}\")\n",
    "            return pd.DataFrame()\n",
    "        \n",
    "        df = pd.DataFrame(data['results'])\n",
    "        df['date'] = pd.to_datetime(df['t'], unit='ms')\n",
    "        df = df.set_index('date')\n",
    "        df = df[['c']].rename(columns={'c': symbol})\n",
    "        \n",
    "        return df\n",
    "    \n",
    "    except Exception as e:\n",
    "        print(f\"Error fetching data for {symbol}: {e}\")\n",
    "        return pd.DataFrame()"
   ]
  },
  {
   "cell_type": "code",
   "execution_count": null,
   "metadata": {},
   "outputs": [],
   "source": [
    "def fetch_all_stocks(symbols: List[str]) -> pd.DataFrame:\n",
    "    \"\"\"\n",
    "    Fetch data for all stocks and combine into a single DataFrame\n",
    "    \n",
    "    Args:\n",
    "        symbols: List of stock ticker symbols\n",
    "    \n",
    "    Returns:\n",
    "        DataFrame with all stock prices\n",
    "    \"\"\"\n",
    "    all_data = []\n",
    "    \n",
    "    for symbol in symbols:\n",
    "        print(f\"Fetching data for {symbol}...\")\n",
    "        df = fetch_stock_data(symbol, START_DATE, END_DATE)\n",
    "        if not df.empty:\n",
    "            all_data.append(df)\n",
    "    \n",
    "    if not all_data:\n",
    "        return pd.DataFrame()\n",
    "    \n",
    "    # Combine all dataframes\n",
    "    combined_df = pd.concat(all_data, axis=1)\n",
    "    \n",
    "    # Forward fill missing values (for holidays/weekends)\n",
    "    combined_df = combined_df.fillna(method='ffill')\n",
    "    \n",
    "    # Drop any remaining NaN values\n",
    "    combined_df = combined_df.dropna()\n",
    "    \n",
    "    return combined_df"
   ]
  },
  {
   "cell_type": "code",
   "execution_count": null,
   "metadata": {},
   "outputs": [],
   "source": [
    "def calculate_returns(price_df: pd.DataFrame) -> pd.DataFrame:\n",
    "    \"\"\"\n",
    "    Calculate daily percentage returns\n",
    "    \n",
    "    Args:\n",
    "        price_df: DataFrame with stock prices\n",
    "    \n",
    "    Returns:\n",
    "        DataFrame with daily returns\n",
    "    \"\"\"\n",
    "    return price_df.pct_change().dropna()"
   ]
  },
  {
   "cell_type": "code",
   "execution_count": null,
   "metadata": {},
   "outputs": [],
   "source": [
    "def find_correlations(returns_df: pd.DataFrame) -> List[Tuple[str, str, float]]:\n",
    "    \"\"\"\n",
    "    Calculate correlations between all stock pairs\n",
    "    \n",
    "    Args:\n",
    "        returns_df: DataFrame with stock returns\n",
    "    \n",
    "    Returns:\n",
    "        List of tuples (stock1, stock2, correlation) sorted by correlation\n",
    "    \"\"\"\n",
    "    correlations = []\n",
    "    symbols = returns_df.columns.tolist()\n",
    "    \n",
    "    # Calculate correlation for each pair\n",
    "    for stock1, stock2 in combinations(symbols, 2):\n",
    "        corr = returns_df[stock1].corr(returns_df[stock2])\n",
    "        correlations.append((stock1, stock2, corr))\n",
    "    \n",
    "    # Sort by absolute correlation (highest first)\n",
    "    correlations.sort(key=lambda x: abs(x[2]), reverse=True)\n",
    "    \n",
    "    return correlations"
   ]
  },
  {
   "cell_type": "code",
   "execution_count": null,
   "metadata": {},
   "outputs": [],
   "source": [
    "# Fetch stock data\n",
    "print(\"Fetching stock data from Polygon API...\\n\")\n",
    "price_data = fetch_all_stocks(SYMBOLS)\n",
    "\n",
    "if price_data.empty:\n",
    "    print(\"No data retrieved. Please check your API key and symbols.\")\n",
    "else:\n",
    "    print(f\"\\nSuccessfully fetched data for {len(price_data.columns)} stocks\")\n",
    "    print(f\"Date range: {price_data.index.min()} to {price_data.index.max()}\")\n",
    "    print(f\"Total data points: {len(price_data)} days\")"
   ]
  },
  {
   "cell_type": "code",
   "execution_count": null,
   "metadata": {},
   "outputs": [],
   "source": [
    "# Calculate returns\n",
    "returns_data = calculate_returns(price_data)\n",
    "print(f\"Calculated daily returns for {len(returns_data)} trading days\")"
   ]
  },
  {
   "cell_type": "code",
   "execution_count": null,
   "metadata": {},
   "outputs": [],
   "source": [
    "# Calculate correlations\n",
    "print(\"\\nCalculating correlations between all stock pairs...\\n\")\n",
    "correlations = find_correlations(returns_data)\n",
    "\n",
    "print(f\"Total pairs analyzed: {len(correlations)}\\n\")"
   ]
  },
  {
   "cell_type": "code",
   "execution_count": null,
   "metadata": {},
   "outputs": [],
   "source": [
    "# Display top 20 highest correlations\n",
    "print(\"\\n\" + \"=\"*60)\n",
    "print(\"TOP 20 HIGHEST CORRELATIONS (by absolute value)\")\n",
    "print(\"=\"*60)\n",
    "print(f\"{'Stock 1':<10} {'Stock 2':<10} {'Correlation':>15}\")\n",
    "print(\"-\"*60)\n",
    "\n",
    "for stock1, stock2, corr in correlations[:20]:\n",
    "    print(f\"{stock1:<10} {stock2:<10} {corr:>15.4f}\")"
   ]
  },
  {
   "cell_type": "code",
   "execution_count": null,
   "metadata": {},
   "outputs": [],
   "source": [
    "# Create a DataFrame with all correlations for further analysis\n",
    "correlation_df = pd.DataFrame(correlations, columns=['Stock 1', 'Stock 2', 'Correlation'])\n",
    "correlation_df['Abs_Correlation'] = correlation_df['Correlation'].abs()\n",
    "\n",
    "# Display summary statistics\n",
    "print(\"\\n\" + \"=\"*60)\n",
    "print(\"CORRELATION SUMMARY STATISTICS\")\n",
    "print(\"=\"*60)\n",
    "print(f\"Mean correlation: {correlation_df['Correlation'].mean():.4f}\")\n",
    "print(f\"Median correlation: {correlation_df['Correlation'].median():.4f}\")\n",
    "print(f\"Max correlation: {correlation_df['Correlation'].max():.4f}\")\n",
    "print(f\"Min correlation: {correlation_df['Correlation'].min():.4f}\")\n",
    "print(f\"Std deviation: {correlation_df['Correlation'].std():.4f}\")\n",
    "\n",
    "correlation_df.head(10)"
   ]
  },
  {
   "cell_type": "code",
   "execution_count": null,
   "metadata": {},
   "outputs": [],
   "source": [
    "# Optional: Visualize correlation matrix\n",
    "import matplotlib.pyplot as plt\n",
    "import seaborn as sns\n",
    "\n",
    "plt.figure(figsize=(14, 12))\n",
    "correlation_matrix = returns_data.corr()\n",
    "sns.heatmap(correlation_matrix, annot=True, fmt='.2f', cmap='coolwarm', \n",
    "            center=0, square=True, linewidths=1, cbar_kws={\"shrink\": 0.8})\n",
    "plt.title('Stock Returns Correlation Matrix', fontsize=16, fontweight='bold')\n",
    "plt.tight_layout()\n",
    "plt.show()"
   ]
  },
  {
   "cell_type": "code",
   "execution_count": null,
   "metadata": {},
   "outputs": [],
   "source": [
    "# Display bottom 10 (most negative correlations)\n",
    "print(\"\\n\" + \"=\"*60)\n",
    "print(\"TOP 10 MOST NEGATIVE CORRELATIONS\")\n",
    "print(\"=\"*60)\n",
    "print(f\"{'Stock 1':<10} {'Stock 2':<10} {'Correlation':>15}\")\n",
    "print(\"-\"*60)\n",
    "\n",
    "sorted_by_value = sorted(correlations, key=lambda x: x[2])\n",
    "for stock1, stock2, corr in sorted_by_value[:10]:\n",
    "    print(f\"{stock1:<10} {stock2:<10} {corr:>15.4f}\")"
   ]
  },
  {
   "cell_type": "code",
   "execution_count": null,
   "metadata": {},
   "outputs": [],
   "source": [
    "# Save results to CSV\n",
    "output_file = 'stock_correlations.csv'\n",
    "correlation_df.to_csv(output_file, index=False)\n",
    "print(f\"\\nResults saved to {output_file}\")"
   ]
  }
 ],
 "metadata": {
  "kernelspec": {
   "display_name": "Python 3",
   "language": "python",
   "name": "python3"
  },
  "language_info": {
   "codemirror_mode": {
    "name": "ipython",
    "version": 3
   },
   "file_extension": ".py",
   "mimetype": "text/x-python",
   "name": "python",
   "nbconvert_exporter": "python",
   "pygments_lexer": "ipython3",
   "version": "3.9.0"
  }
 },
 "nbformat": 4,
 "nbformat_minor": 4
}
