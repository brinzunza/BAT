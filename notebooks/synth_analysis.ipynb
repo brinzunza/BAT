{
 "cells": [
  {
   "cell_type": "markdown",
   "metadata": {},
   "source": [
    "# Synthetic Market Data Analysis\n",
    "Analysis of SYNTH.json tick data with OHLC charts and basic statistics"
   ]
  },
  {
   "cell_type": "code",
   "execution_count": 1,
   "metadata": {},
   "outputs": [],
   "source": [
    "import json\n",
    "import pandas as pd\n",
    "import numpy as np\n",
    "import matplotlib.pyplot as plt\n",
    "import plotly.graph_objects as go\n",
    "from datetime import datetime\n",
    "import os"
   ]
  },
  {
   "cell_type": "markdown",
   "metadata": {},
   "source": [
    "## Load Data"
   ]
  },
  {
   "cell_type": "code",
   "execution_count": 2,
   "metadata": {},
   "outputs": [
    {
     "name": "stdout",
     "output_type": "stream",
     "text": [
      "Total ticks: 1000\n",
      "First tick: {'time': '2025-10-02T18:19:16.326Z', 'ticker': 'SYNTH', 'price': '157.27', 'volume': 10622, 'bid': '157.15', 'ask': '157.39'}\n",
      "Last tick: {'time': '2025-10-02T18:20:56.287Z', 'ticker': 'SYNTH', 'price': '129.38', 'volume': 15236, 'bid': '129.24', 'ask': '129.52'}\n"
     ]
    }
   ],
   "source": [
    "# Load the JSON file\n",
    "file_path = os.path.expanduser('~/Downloads/SYNTH.json')\n",
    "with open(file_path, 'r') as f:\n",
    "    data = json.load(f)\n",
    "\n",
    "# Extract the data array\n",
    "ticks = data['data']\n",
    "print(f\"Total ticks: {len(ticks)}\")\n",
    "print(f\"First tick: {ticks[0]}\")\n",
    "print(f\"Last tick: {ticks[-1]}\")"
   ]
  },
  {
   "cell_type": "markdown",
   "metadata": {},
   "source": [
    "## Convert to DataFrame"
   ]
  },
  {
   "cell_type": "code",
   "execution_count": 3,
   "metadata": {},
   "outputs": [
    {
     "name": "stdout",
     "output_type": "stream",
     "text": [
      "                                 ticker   price  volume     bid     ask\n",
      "time                                                                   \n",
      "2025-10-02 18:19:16.326000+00:00  SYNTH  157.27   10622  157.15  157.39\n",
      "2025-10-02 18:19:16.426000+00:00  SYNTH  157.14   14358  156.98  157.31\n",
      "2025-10-02 18:19:16.525000+00:00  SYNTH  157.27   10988  157.09  157.44\n",
      "2025-10-02 18:19:16.626000+00:00  SYNTH  157.15   16414  157.07  157.23\n",
      "2025-10-02 18:19:16.726000+00:00  SYNTH  157.41   14032  157.26  157.56\n",
      "\n",
      "Data shape: (1000, 5)\n",
      "\n",
      "Data types:\n",
      "ticker     object\n",
      "price     float64\n",
      "volume      int64\n",
      "bid       float64\n",
      "ask       float64\n",
      "dtype: object\n"
     ]
    }
   ],
   "source": [
    "# Convert to DataFrame\n",
    "df = pd.DataFrame(ticks)\n",
    "\n",
    "# Convert time to datetime\n",
    "df['time'] = pd.to_datetime(df['time'])\n",
    "\n",
    "# Convert string prices to float\n",
    "df['price'] = df['price'].astype(float)\n",
    "df['bid'] = df['bid'].astype(float)\n",
    "df['ask'] = df['ask'].astype(float)\n",
    "df['volume'] = df['volume'].astype(int)\n",
    "\n",
    "# Set time as index\n",
    "df.set_index('time', inplace=True)\n",
    "\n",
    "print(df.head())\n",
    "print(f\"\\nData shape: {df.shape}\")\n",
    "print(f\"\\nData types:\\n{df.dtypes}\")"
   ]
  },
  {
   "cell_type": "markdown",
   "metadata": {},
   "source": [
    "## Basic Statistics"
   ]
  },
  {
   "cell_type": "code",
   "execution_count": 4,
   "metadata": {},
   "outputs": [
    {
     "name": "stdout",
     "output_type": "stream",
     "text": [
      "==================================================\n",
      "BASIC STATISTICS\n",
      "==================================================\n",
      "\n",
      "Time Range:\n",
      "  Start: 2025-10-02 18:19:16.326000+00:00\n",
      "  End: 2025-10-02 18:20:56.287000+00:00\n",
      "  Duration: 0 days 00:01:39.961000\n",
      "\n",
      "Price Statistics:\n",
      "  Mean: $140.00\n",
      "  Median: $137.45\n",
      "  Std Dev: $9.31\n",
      "  Min: $125.78\n",
      "  Max: $157.74\n",
      "  Range: $31.96\n",
      "\n",
      "Volume Statistics:\n",
      "  Total Volume: 17,547,347\n",
      "  Mean Volume: 17547\n",
      "  Median Volume: 16242\n",
      "  Max Volume: 42,402\n",
      "\n",
      "Spread Statistics:\n",
      "  Mean Spread: $0.2785\n",
      "  Median Spread: $0.2800\n",
      "  Max Spread: $0.4500\n",
      "  Min Spread: $0.1200\n"
     ]
    }
   ],
   "source": [
    "# Basic statistics\n",
    "print(\"=\" * 50)\n",
    "print(\"BASIC STATISTICS\")\n",
    "print(\"=\" * 50)\n",
    "\n",
    "print(f\"\\nTime Range:\")\n",
    "print(f\"  Start: {df.index.min()}\")\n",
    "print(f\"  End: {df.index.max()}\")\n",
    "print(f\"  Duration: {df.index.max() - df.index.min()}\")\n",
    "\n",
    "print(f\"\\nPrice Statistics:\")\n",
    "print(f\"  Mean: ${df['price'].mean():.2f}\")\n",
    "print(f\"  Median: ${df['price'].median():.2f}\")\n",
    "print(f\"  Std Dev: ${df['price'].std():.2f}\")\n",
    "print(f\"  Min: ${df['price'].min():.2f}\")\n",
    "print(f\"  Max: ${df['price'].max():.2f}\")\n",
    "print(f\"  Range: ${df['price'].max() - df['price'].min():.2f}\")\n",
    "\n",
    "print(f\"\\nVolume Statistics:\")\n",
    "print(f\"  Total Volume: {df['volume'].sum():,}\")\n",
    "print(f\"  Mean Volume: {df['volume'].mean():.0f}\")\n",
    "print(f\"  Median Volume: {df['volume'].median():.0f}\")\n",
    "print(f\"  Max Volume: {df['volume'].max():,}\")\n",
    "\n",
    "print(f\"\\nSpread Statistics:\")\n",
    "df['spread'] = df['ask'] - df['bid']\n",
    "print(f\"  Mean Spread: ${df['spread'].mean():.4f}\")\n",
    "print(f\"  Median Spread: ${df['spread'].median():.4f}\")\n",
    "print(f\"  Max Spread: ${df['spread'].max():.4f}\")\n",
    "print(f\"  Min Spread: ${df['spread'].min():.4f}\")"
   ]
  },
  {
   "cell_type": "markdown",
   "metadata": {},
   "source": [
    "## Create OHLC Data"
   ]
  },
  {
   "cell_type": "code",
   "execution_count": 5,
   "metadata": {},
   "outputs": [
    {
     "name": "stdout",
     "output_type": "stream",
     "text": [
      "\n",
      "OHLC Data Created:\n",
      "  1-second bars: 101\n",
      "  5-second bars: 21\n",
      "  10-second bars: 11\n",
      "  30-second bars: 4\n",
      "  1-minute bars: 2\n",
      "\n",
      "Sample 5-second OHLC:\n",
      "                             open    high     low   close  volume\n",
      "time                                                             \n",
      "2025-10-02 18:19:15+00:00  157.27  157.74  155.54  156.39  597899\n",
      "2025-10-02 18:19:20+00:00  156.40  156.40  151.78  152.27  891536\n",
      "2025-10-02 18:19:25+00:00  151.78  152.79  151.69  152.36  891064\n",
      "2025-10-02 18:19:30+00:00  152.45  153.25  150.24  150.24  901967\n",
      "2025-10-02 18:19:35+00:00  150.03  150.34  148.63  149.85  829514\n",
      "2025-10-02 18:19:40+00:00  149.66  150.55  147.99  149.38  842129\n",
      "2025-10-02 18:19:45+00:00  149.34  149.89  144.95  145.31  851645\n",
      "2025-10-02 18:19:50+00:00  144.71  144.79  141.44  142.03  828489\n",
      "2025-10-02 18:19:55+00:00  142.16  142.89  140.06  140.06  885009\n",
      "2025-10-02 18:20:00+00:00  140.18  140.34  138.20  138.20  862242\n"
     ]
    }
   ],
   "source": [
    "# Resample to different timeframes and create OHLC\n",
    "def create_ohlc(df, timeframe='1min'):\n",
    "    ohlc = df['price'].resample(timeframe).ohlc()\n",
    "    ohlc['volume'] = df['volume'].resample(timeframe).sum()\n",
    "    ohlc = ohlc.dropna()\n",
    "    return ohlc\n",
    "\n",
    "# Create OHLC for different timeframes\n",
    "ohlc_1s = create_ohlc(df, '1s')\n",
    "ohlc_5s = create_ohlc(df, '5s')\n",
    "ohlc_10s = create_ohlc(df, '10s')\n",
    "ohlc_30s = create_ohlc(df, '30s')\n",
    "ohlc_1min = create_ohlc(df, '1min')\n",
    "\n",
    "print(f\"\\nOHLC Data Created:\")\n",
    "print(f\"  1-second bars: {len(ohlc_1s)}\")\n",
    "print(f\"  5-second bars: {len(ohlc_5s)}\")\n",
    "print(f\"  10-second bars: {len(ohlc_10s)}\")\n",
    "print(f\"  30-second bars: {len(ohlc_30s)}\")\n",
    "print(f\"  1-minute bars: {len(ohlc_1min)}\")\n",
    "\n",
    "print(f\"\\nSample 5-second OHLC:\")\n",
    "print(ohlc_5s.head(10))"
   ]
  },
  {
   "cell_type": "markdown",
   "metadata": {},
   "source": [
    "## Plot OHLC Candlestick Chart (5-second bars)"
   ]
  },
  {
   "cell_type": "code",
   "execution_count": 6,
   "metadata": {},
   "outputs": [
    {
     "name": "stderr",
     "output_type": "stream",
     "text": [
      "/Library/Frameworks/Python.framework/Versions/3.12/lib/python3.12/site-packages/kaleido/__init__.py:14: UserWarning:\n",
      "\n",
      "\n",
      "\n",
      "Warning: You have Plotly version 5.24.1, which is not compatible with this version of Kaleido (1.0.0).\n",
      "\n",
      "This means that static image generation (e.g. `fig.write_image()`) will not work.\n",
      "\n",
      "Please upgrade Plotly to version 6.1.1 or greater, or downgrade Kaleido to version 0.2.1.\n",
      "\n",
      "\n"
     ]
    },
    {
     "data": {
      "application/vnd.plotly.v1+json": {
       "config": {
        "plotlyServerURL": "https://plot.ly"
       },
       "data": [
        {
         "close": [
          156.39,
          152.27,
          152.36,
          150.24,
          149.85,
          149.38,
          145.31,
          142.03,
          140.06,
          138.2,
          136.31,
          137.03,
          133.05,
          132.91,
          132.22,
          129.44,
          129.62,
          130.28,
          125.97,
          128.49,
          129.38
         ],
         "high": [
          157.74,
          156.4,
          152.79,
          153.25,
          150.34,
          150.55,
          149.89,
          144.79,
          142.89,
          140.34,
          138.68,
          137.82,
          137.1,
          133.65,
          133.3,
          132.81,
          131.43,
          131.49,
          130.34,
          128.57,
          129.38
         ],
         "low": [
          155.54,
          151.78,
          151.69,
          150.24,
          148.63,
          147.99,
          144.95,
          141.44,
          140.06,
          138.2,
          135.97,
          135.88,
          133.05,
          130.45,
          132.15,
          129.44,
          128.82,
          128.6,
          125.78,
          126,
          128.12
         ],
         "name": "SYNTH",
         "open": [
          157.27,
          156.4,
          151.78,
          152.45,
          150.03,
          149.66,
          149.34,
          144.71,
          142.16,
          140.18,
          138.11,
          136.28,
          137.1,
          133.06,
          132.65,
          132.26,
          129.52,
          129.35,
          130.13,
          126,
          128.54
         ],
         "type": "candlestick",
         "x": [
          "2025-10-02T18:19:15+00:00",
          "2025-10-02T18:19:20+00:00",
          "2025-10-02T18:19:25+00:00",
          "2025-10-02T18:19:30+00:00",
          "2025-10-02T18:19:35+00:00",
          "2025-10-02T18:19:40+00:00",
          "2025-10-02T18:19:45+00:00",
          "2025-10-02T18:19:50+00:00",
          "2025-10-02T18:19:55+00:00",
          "2025-10-02T18:20:00+00:00",
          "2025-10-02T18:20:05+00:00",
          "2025-10-02T18:20:10+00:00",
          "2025-10-02T18:20:15+00:00",
          "2025-10-02T18:20:20+00:00",
          "2025-10-02T18:20:25+00:00",
          "2025-10-02T18:20:30+00:00",
          "2025-10-02T18:20:35+00:00",
          "2025-10-02T18:20:40+00:00",
          "2025-10-02T18:20:45+00:00",
          "2025-10-02T18:20:50+00:00",
          "2025-10-02T18:20:55+00:00"
         ]
        }
       ],
       "layout": {
        "height": 600,
        "template": {
         "data": {
          "bar": [
           {
            "error_x": {
             "color": "#2a3f5f"
            },
            "error_y": {
             "color": "#2a3f5f"
            },
            "marker": {
             "line": {
              "color": "#E5ECF6",
              "width": 0.5
             },
             "pattern": {
              "fillmode": "overlay",
              "size": 10,
              "solidity": 0.2
             }
            },
            "type": "bar"
           }
          ],
          "barpolar": [
           {
            "marker": {
             "line": {
              "color": "#E5ECF6",
              "width": 0.5
             },
             "pattern": {
              "fillmode": "overlay",
              "size": 10,
              "solidity": 0.2
             }
            },
            "type": "barpolar"
           }
          ],
          "carpet": [
           {
            "aaxis": {
             "endlinecolor": "#2a3f5f",
             "gridcolor": "white",
             "linecolor": "white",
             "minorgridcolor": "white",
             "startlinecolor": "#2a3f5f"
            },
            "baxis": {
             "endlinecolor": "#2a3f5f",
             "gridcolor": "white",
             "linecolor": "white",
             "minorgridcolor": "white",
             "startlinecolor": "#2a3f5f"
            },
            "type": "carpet"
           }
          ],
          "choropleth": [
           {
            "colorbar": {
             "outlinewidth": 0,
             "ticks": ""
            },
            "type": "choropleth"
           }
          ],
          "contour": [
           {
            "colorbar": {
             "outlinewidth": 0,
             "ticks": ""
            },
            "colorscale": [
             [
              0,
              "#0d0887"
             ],
             [
              0.1111111111111111,
              "#46039f"
             ],
             [
              0.2222222222222222,
              "#7201a8"
             ],
             [
              0.3333333333333333,
              "#9c179e"
             ],
             [
              0.4444444444444444,
              "#bd3786"
             ],
             [
              0.5555555555555556,
              "#d8576b"
             ],
             [
              0.6666666666666666,
              "#ed7953"
             ],
             [
              0.7777777777777778,
              "#fb9f3a"
             ],
             [
              0.8888888888888888,
              "#fdca26"
             ],
             [
              1,
              "#f0f921"
             ]
            ],
            "type": "contour"
           }
          ],
          "contourcarpet": [
           {
            "colorbar": {
             "outlinewidth": 0,
             "ticks": ""
            },
            "type": "contourcarpet"
           }
          ],
          "heatmap": [
           {
            "colorbar": {
             "outlinewidth": 0,
             "ticks": ""
            },
            "colorscale": [
             [
              0,
              "#0d0887"
             ],
             [
              0.1111111111111111,
              "#46039f"
             ],
             [
              0.2222222222222222,
              "#7201a8"
             ],
             [
              0.3333333333333333,
              "#9c179e"
             ],
             [
              0.4444444444444444,
              "#bd3786"
             ],
             [
              0.5555555555555556,
              "#d8576b"
             ],
             [
              0.6666666666666666,
              "#ed7953"
             ],
             [
              0.7777777777777778,
              "#fb9f3a"
             ],
             [
              0.8888888888888888,
              "#fdca26"
             ],
             [
              1,
              "#f0f921"
             ]
            ],
            "type": "heatmap"
           }
          ],
          "heatmapgl": [
           {
            "colorbar": {
             "outlinewidth": 0,
             "ticks": ""
            },
            "colorscale": [
             [
              0,
              "#0d0887"
             ],
             [
              0.1111111111111111,
              "#46039f"
             ],
             [
              0.2222222222222222,
              "#7201a8"
             ],
             [
              0.3333333333333333,
              "#9c179e"
             ],
             [
              0.4444444444444444,
              "#bd3786"
             ],
             [
              0.5555555555555556,
              "#d8576b"
             ],
             [
              0.6666666666666666,
              "#ed7953"
             ],
             [
              0.7777777777777778,
              "#fb9f3a"
             ],
             [
              0.8888888888888888,
              "#fdca26"
             ],
             [
              1,
              "#f0f921"
             ]
            ],
            "type": "heatmapgl"
           }
          ],
          "histogram": [
           {
            "marker": {
             "pattern": {
              "fillmode": "overlay",
              "size": 10,
              "solidity": 0.2
             }
            },
            "type": "histogram"
           }
          ],
          "histogram2d": [
           {
            "colorbar": {
             "outlinewidth": 0,
             "ticks": ""
            },
            "colorscale": [
             [
              0,
              "#0d0887"
             ],
             [
              0.1111111111111111,
              "#46039f"
             ],
             [
              0.2222222222222222,
              "#7201a8"
             ],
             [
              0.3333333333333333,
              "#9c179e"
             ],
             [
              0.4444444444444444,
              "#bd3786"
             ],
             [
              0.5555555555555556,
              "#d8576b"
             ],
             [
              0.6666666666666666,
              "#ed7953"
             ],
             [
              0.7777777777777778,
              "#fb9f3a"
             ],
             [
              0.8888888888888888,
              "#fdca26"
             ],
             [
              1,
              "#f0f921"
             ]
            ],
            "type": "histogram2d"
           }
          ],
          "histogram2dcontour": [
           {
            "colorbar": {
             "outlinewidth": 0,
             "ticks": ""
            },
            "colorscale": [
             [
              0,
              "#0d0887"
             ],
             [
              0.1111111111111111,
              "#46039f"
             ],
             [
              0.2222222222222222,
              "#7201a8"
             ],
             [
              0.3333333333333333,
              "#9c179e"
             ],
             [
              0.4444444444444444,
              "#bd3786"
             ],
             [
              0.5555555555555556,
              "#d8576b"
             ],
             [
              0.6666666666666666,
              "#ed7953"
             ],
             [
              0.7777777777777778,
              "#fb9f3a"
             ],
             [
              0.8888888888888888,
              "#fdca26"
             ],
             [
              1,
              "#f0f921"
             ]
            ],
            "type": "histogram2dcontour"
           }
          ],
          "mesh3d": [
           {
            "colorbar": {
             "outlinewidth": 0,
             "ticks": ""
            },
            "type": "mesh3d"
           }
          ],
          "parcoords": [
           {
            "line": {
             "colorbar": {
              "outlinewidth": 0,
              "ticks": ""
             }
            },
            "type": "parcoords"
           }
          ],
          "pie": [
           {
            "automargin": true,
            "type": "pie"
           }
          ],
          "scatter": [
           {
            "fillpattern": {
             "fillmode": "overlay",
             "size": 10,
             "solidity": 0.2
            },
            "type": "scatter"
           }
          ],
          "scatter3d": [
           {
            "line": {
             "colorbar": {
              "outlinewidth": 0,
              "ticks": ""
             }
            },
            "marker": {
             "colorbar": {
              "outlinewidth": 0,
              "ticks": ""
             }
            },
            "type": "scatter3d"
           }
          ],
          "scattercarpet": [
           {
            "marker": {
             "colorbar": {
              "outlinewidth": 0,
              "ticks": ""
             }
            },
            "type": "scattercarpet"
           }
          ],
          "scattergeo": [
           {
            "marker": {
             "colorbar": {
              "outlinewidth": 0,
              "ticks": ""
             }
            },
            "type": "scattergeo"
           }
          ],
          "scattergl": [
           {
            "marker": {
             "colorbar": {
              "outlinewidth": 0,
              "ticks": ""
             }
            },
            "type": "scattergl"
           }
          ],
          "scattermapbox": [
           {
            "marker": {
             "colorbar": {
              "outlinewidth": 0,
              "ticks": ""
             }
            },
            "type": "scattermapbox"
           }
          ],
          "scatterpolar": [
           {
            "marker": {
             "colorbar": {
              "outlinewidth": 0,
              "ticks": ""
             }
            },
            "type": "scatterpolar"
           }
          ],
          "scatterpolargl": [
           {
            "marker": {
             "colorbar": {
              "outlinewidth": 0,
              "ticks": ""
             }
            },
            "type": "scatterpolargl"
           }
          ],
          "scatterternary": [
           {
            "marker": {
             "colorbar": {
              "outlinewidth": 0,
              "ticks": ""
             }
            },
            "type": "scatterternary"
           }
          ],
          "surface": [
           {
            "colorbar": {
             "outlinewidth": 0,
             "ticks": ""
            },
            "colorscale": [
             [
              0,
              "#0d0887"
             ],
             [
              0.1111111111111111,
              "#46039f"
             ],
             [
              0.2222222222222222,
              "#7201a8"
             ],
             [
              0.3333333333333333,
              "#9c179e"
             ],
             [
              0.4444444444444444,
              "#bd3786"
             ],
             [
              0.5555555555555556,
              "#d8576b"
             ],
             [
              0.6666666666666666,
              "#ed7953"
             ],
             [
              0.7777777777777778,
              "#fb9f3a"
             ],
             [
              0.8888888888888888,
              "#fdca26"
             ],
             [
              1,
              "#f0f921"
             ]
            ],
            "type": "surface"
           }
          ],
          "table": [
           {
            "cells": {
             "fill": {
              "color": "#EBF0F8"
             },
             "line": {
              "color": "white"
             }
            },
            "header": {
             "fill": {
              "color": "#C8D4E3"
             },
             "line": {
              "color": "white"
             }
            },
            "type": "table"
           }
          ]
         },
         "layout": {
          "annotationdefaults": {
           "arrowcolor": "#2a3f5f",
           "arrowhead": 0,
           "arrowwidth": 1
          },
          "autotypenumbers": "strict",
          "coloraxis": {
           "colorbar": {
            "outlinewidth": 0,
            "ticks": ""
           }
          },
          "colorscale": {
           "diverging": [
            [
             0,
             "#8e0152"
            ],
            [
             0.1,
             "#c51b7d"
            ],
            [
             0.2,
             "#de77ae"
            ],
            [
             0.3,
             "#f1b6da"
            ],
            [
             0.4,
             "#fde0ef"
            ],
            [
             0.5,
             "#f7f7f7"
            ],
            [
             0.6,
             "#e6f5d0"
            ],
            [
             0.7,
             "#b8e186"
            ],
            [
             0.8,
             "#7fbc41"
            ],
            [
             0.9,
             "#4d9221"
            ],
            [
             1,
             "#276419"
            ]
           ],
           "sequential": [
            [
             0,
             "#0d0887"
            ],
            [
             0.1111111111111111,
             "#46039f"
            ],
            [
             0.2222222222222222,
             "#7201a8"
            ],
            [
             0.3333333333333333,
             "#9c179e"
            ],
            [
             0.4444444444444444,
             "#bd3786"
            ],
            [
             0.5555555555555556,
             "#d8576b"
            ],
            [
             0.6666666666666666,
             "#ed7953"
            ],
            [
             0.7777777777777778,
             "#fb9f3a"
            ],
            [
             0.8888888888888888,
             "#fdca26"
            ],
            [
             1,
             "#f0f921"
            ]
           ],
           "sequentialminus": [
            [
             0,
             "#0d0887"
            ],
            [
             0.1111111111111111,
             "#46039f"
            ],
            [
             0.2222222222222222,
             "#7201a8"
            ],
            [
             0.3333333333333333,
             "#9c179e"
            ],
            [
             0.4444444444444444,
             "#bd3786"
            ],
            [
             0.5555555555555556,
             "#d8576b"
            ],
            [
             0.6666666666666666,
             "#ed7953"
            ],
            [
             0.7777777777777778,
             "#fb9f3a"
            ],
            [
             0.8888888888888888,
             "#fdca26"
            ],
            [
             1,
             "#f0f921"
            ]
           ]
          },
          "colorway": [
           "#636efa",
           "#EF553B",
           "#00cc96",
           "#ab63fa",
           "#FFA15A",
           "#19d3f3",
           "#FF6692",
           "#B6E880",
           "#FF97FF",
           "#FECB52"
          ],
          "font": {
           "color": "#2a3f5f"
          },
          "geo": {
           "bgcolor": "white",
           "lakecolor": "white",
           "landcolor": "#E5ECF6",
           "showlakes": true,
           "showland": true,
           "subunitcolor": "white"
          },
          "hoverlabel": {
           "align": "left"
          },
          "hovermode": "closest",
          "mapbox": {
           "style": "light"
          },
          "paper_bgcolor": "white",
          "plot_bgcolor": "#E5ECF6",
          "polar": {
           "angularaxis": {
            "gridcolor": "white",
            "linecolor": "white",
            "ticks": ""
           },
           "bgcolor": "#E5ECF6",
           "radialaxis": {
            "gridcolor": "white",
            "linecolor": "white",
            "ticks": ""
           }
          },
          "scene": {
           "xaxis": {
            "backgroundcolor": "#E5ECF6",
            "gridcolor": "white",
            "gridwidth": 2,
            "linecolor": "white",
            "showbackground": true,
            "ticks": "",
            "zerolinecolor": "white"
           },
           "yaxis": {
            "backgroundcolor": "#E5ECF6",
            "gridcolor": "white",
            "gridwidth": 2,
            "linecolor": "white",
            "showbackground": true,
            "ticks": "",
            "zerolinecolor": "white"
           },
           "zaxis": {
            "backgroundcolor": "#E5ECF6",
            "gridcolor": "white",
            "gridwidth": 2,
            "linecolor": "white",
            "showbackground": true,
            "ticks": "",
            "zerolinecolor": "white"
           }
          },
          "shapedefaults": {
           "line": {
            "color": "#2a3f5f"
           }
          },
          "ternary": {
           "aaxis": {
            "gridcolor": "white",
            "linecolor": "white",
            "ticks": ""
           },
           "baxis": {
            "gridcolor": "white",
            "linecolor": "white",
            "ticks": ""
           },
           "bgcolor": "#E5ECF6",
           "caxis": {
            "gridcolor": "white",
            "linecolor": "white",
            "ticks": ""
           }
          },
          "title": {
           "x": 0.05
          },
          "xaxis": {
           "automargin": true,
           "gridcolor": "white",
           "linecolor": "white",
           "ticks": "",
           "title": {
            "standoff": 15
           },
           "zerolinecolor": "white",
           "zerolinewidth": 2
          },
          "yaxis": {
           "automargin": true,
           "gridcolor": "white",
           "linecolor": "white",
           "ticks": "",
           "title": {
            "standoff": 15
           },
           "zerolinecolor": "white",
           "zerolinewidth": 2
          }
         }
        },
        "title": {
         "text": "SYNTH - 5 Second Candlestick Chart"
        },
        "xaxis": {
         "rangeslider": {
          "visible": false
         },
         "title": {
          "text": "Time"
         }
        },
        "yaxis": {
         "title": {
          "text": "Price ($)"
         }
        }
       }
      }
     },
     "metadata": {},
     "output_type": "display_data"
    }
   ],
   "source": [
    "# Create candlestick chart using plotly\n",
    "fig = go.Figure(data=[go.Candlestick(\n",
    "    x=ohlc_5s.index,\n",
    "    open=ohlc_5s['open'],\n",
    "    high=ohlc_5s['high'],\n",
    "    low=ohlc_5s['low'],\n",
    "    close=ohlc_5s['close'],\n",
    "    name='SYNTH'\n",
    ")])\n",
    "\n",
    "fig.update_layout(\n",
    "    title='SYNTH - 5 Second Candlestick Chart',\n",
    "    yaxis_title='Price ($)',\n",
    "    xaxis_title='Time',\n",
    "    height=600,\n",
    "    xaxis_rangeslider_visible=False\n",
    ")\n",
    "\n",
    "fig.show()"
   ]
  },
  {
   "cell_type": "markdown",
   "metadata": {},
   "source": [
    "## Plot OHLC Candlestick Chart (30-second bars)"
   ]
  },
  {
   "cell_type": "code",
   "execution_count": null,
   "metadata": {},
   "outputs": [],
   "source": [
    "fig = go.Figure(data=[go.Candlestick(\n",
    "    x=ohlc_30s.index,\n",
    "    open=ohlc_30s['open'],\n",
    "    high=ohlc_30s['high'],\n",
    "    low=ohlc_30s['low'],\n",
    "    close=ohlc_30s['close'],\n",
    "    name='SYNTH'\n",
    ")])\n",
    "\n",
    "fig.update_layout(\n",
    "    title='SYNTH - 30 Second Candlestick Chart',\n",
    "    yaxis_title='Price ($)',\n",
    "    xaxis_title='Time',\n",
    "    height=600,\n",
    "    xaxis_rangeslider_visible=False\n",
    ")\n",
    "\n",
    "fig.show()"
   ]
  },
  {
   "cell_type": "markdown",
   "metadata": {},
   "source": [
    "## Price and Volume Analysis"
   ]
  },
  {
   "cell_type": "code",
   "execution_count": 7,
   "metadata": {},
   "outputs": [
    {
     "data": {
      "application/vnd.plotly.v1+json": {
       "config": {
        "plotlyServerURL": "https://plot.ly"
       },
       "data": [
        {
         "close": [
          156.39,
          152.27,
          152.36,
          150.24,
          149.85,
          149.38,
          145.31,
          142.03,
          140.06,
          138.2,
          136.31,
          137.03,
          133.05,
          132.91,
          132.22,
          129.44,
          129.62,
          130.28,
          125.97,
          128.49,
          129.38
         ],
         "high": [
          157.74,
          156.4,
          152.79,
          153.25,
          150.34,
          150.55,
          149.89,
          144.79,
          142.89,
          140.34,
          138.68,
          137.82,
          137.1,
          133.65,
          133.3,
          132.81,
          131.43,
          131.49,
          130.34,
          128.57,
          129.38
         ],
         "low": [
          155.54,
          151.78,
          151.69,
          150.24,
          148.63,
          147.99,
          144.95,
          141.44,
          140.06,
          138.2,
          135.97,
          135.88,
          133.05,
          130.45,
          132.15,
          129.44,
          128.82,
          128.6,
          125.78,
          126,
          128.12
         ],
         "name": "Price",
         "open": [
          157.27,
          156.4,
          151.78,
          152.45,
          150.03,
          149.66,
          149.34,
          144.71,
          142.16,
          140.18,
          138.11,
          136.28,
          137.1,
          133.06,
          132.65,
          132.26,
          129.52,
          129.35,
          130.13,
          126,
          128.54
         ],
         "type": "candlestick",
         "x": [
          "2025-10-02T18:19:15+00:00",
          "2025-10-02T18:19:20+00:00",
          "2025-10-02T18:19:25+00:00",
          "2025-10-02T18:19:30+00:00",
          "2025-10-02T18:19:35+00:00",
          "2025-10-02T18:19:40+00:00",
          "2025-10-02T18:19:45+00:00",
          "2025-10-02T18:19:50+00:00",
          "2025-10-02T18:19:55+00:00",
          "2025-10-02T18:20:00+00:00",
          "2025-10-02T18:20:05+00:00",
          "2025-10-02T18:20:10+00:00",
          "2025-10-02T18:20:15+00:00",
          "2025-10-02T18:20:20+00:00",
          "2025-10-02T18:20:25+00:00",
          "2025-10-02T18:20:30+00:00",
          "2025-10-02T18:20:35+00:00",
          "2025-10-02T18:20:40+00:00",
          "2025-10-02T18:20:45+00:00",
          "2025-10-02T18:20:50+00:00",
          "2025-10-02T18:20:55+00:00"
         ],
         "xaxis": "x",
         "yaxis": "y"
        },
        {
         "marker": {
          "color": "rgba(0, 150, 255, 0.6)"
         },
         "name": "Volume",
         "type": "bar",
         "x": [
          "2025-10-02T18:19:15+00:00",
          "2025-10-02T18:19:20+00:00",
          "2025-10-02T18:19:25+00:00",
          "2025-10-02T18:19:30+00:00",
          "2025-10-02T18:19:35+00:00",
          "2025-10-02T18:19:40+00:00",
          "2025-10-02T18:19:45+00:00",
          "2025-10-02T18:19:50+00:00",
          "2025-10-02T18:19:55+00:00",
          "2025-10-02T18:20:00+00:00",
          "2025-10-02T18:20:05+00:00",
          "2025-10-02T18:20:10+00:00",
          "2025-10-02T18:20:15+00:00",
          "2025-10-02T18:20:20+00:00",
          "2025-10-02T18:20:25+00:00",
          "2025-10-02T18:20:30+00:00",
          "2025-10-02T18:20:35+00:00",
          "2025-10-02T18:20:40+00:00",
          "2025-10-02T18:20:45+00:00",
          "2025-10-02T18:20:50+00:00",
          "2025-10-02T18:20:55+00:00"
         ],
         "xaxis": "x2",
         "y": [
          597899,
          891536,
          891064,
          901967,
          829514,
          842129,
          851645,
          828489,
          885009,
          862242,
          879928,
          873698,
          929114,
          922820,
          966566,
          851964,
          907373,
          808002,
          921634,
          872229,
          232525
         ],
         "yaxis": "y2"
        }
       ],
       "layout": {
        "annotations": [
         {
          "font": {
           "size": 16
          },
          "showarrow": false,
          "text": "Price",
          "x": 0.5,
          "xanchor": "center",
          "xref": "paper",
          "y": 0.9999999999999999,
          "yanchor": "bottom",
          "yref": "paper"
         },
         {
          "font": {
           "size": 16
          },
          "showarrow": false,
          "text": "Volume",
          "x": 0.5,
          "xanchor": "center",
          "xref": "paper",
          "y": 0.291,
          "yanchor": "bottom",
          "yref": "paper"
         }
        ],
        "height": 800,
        "showlegend": false,
        "template": {
         "data": {
          "bar": [
           {
            "error_x": {
             "color": "#2a3f5f"
            },
            "error_y": {
             "color": "#2a3f5f"
            },
            "marker": {
             "line": {
              "color": "#E5ECF6",
              "width": 0.5
             },
             "pattern": {
              "fillmode": "overlay",
              "size": 10,
              "solidity": 0.2
             }
            },
            "type": "bar"
           }
          ],
          "barpolar": [
           {
            "marker": {
             "line": {
              "color": "#E5ECF6",
              "width": 0.5
             },
             "pattern": {
              "fillmode": "overlay",
              "size": 10,
              "solidity": 0.2
             }
            },
            "type": "barpolar"
           }
          ],
          "carpet": [
           {
            "aaxis": {
             "endlinecolor": "#2a3f5f",
             "gridcolor": "white",
             "linecolor": "white",
             "minorgridcolor": "white",
             "startlinecolor": "#2a3f5f"
            },
            "baxis": {
             "endlinecolor": "#2a3f5f",
             "gridcolor": "white",
             "linecolor": "white",
             "minorgridcolor": "white",
             "startlinecolor": "#2a3f5f"
            },
            "type": "carpet"
           }
          ],
          "choropleth": [
           {
            "colorbar": {
             "outlinewidth": 0,
             "ticks": ""
            },
            "type": "choropleth"
           }
          ],
          "contour": [
           {
            "colorbar": {
             "outlinewidth": 0,
             "ticks": ""
            },
            "colorscale": [
             [
              0,
              "#0d0887"
             ],
             [
              0.1111111111111111,
              "#46039f"
             ],
             [
              0.2222222222222222,
              "#7201a8"
             ],
             [
              0.3333333333333333,
              "#9c179e"
             ],
             [
              0.4444444444444444,
              "#bd3786"
             ],
             [
              0.5555555555555556,
              "#d8576b"
             ],
             [
              0.6666666666666666,
              "#ed7953"
             ],
             [
              0.7777777777777778,
              "#fb9f3a"
             ],
             [
              0.8888888888888888,
              "#fdca26"
             ],
             [
              1,
              "#f0f921"
             ]
            ],
            "type": "contour"
           }
          ],
          "contourcarpet": [
           {
            "colorbar": {
             "outlinewidth": 0,
             "ticks": ""
            },
            "type": "contourcarpet"
           }
          ],
          "heatmap": [
           {
            "colorbar": {
             "outlinewidth": 0,
             "ticks": ""
            },
            "colorscale": [
             [
              0,
              "#0d0887"
             ],
             [
              0.1111111111111111,
              "#46039f"
             ],
             [
              0.2222222222222222,
              "#7201a8"
             ],
             [
              0.3333333333333333,
              "#9c179e"
             ],
             [
              0.4444444444444444,
              "#bd3786"
             ],
             [
              0.5555555555555556,
              "#d8576b"
             ],
             [
              0.6666666666666666,
              "#ed7953"
             ],
             [
              0.7777777777777778,
              "#fb9f3a"
             ],
             [
              0.8888888888888888,
              "#fdca26"
             ],
             [
              1,
              "#f0f921"
             ]
            ],
            "type": "heatmap"
           }
          ],
          "heatmapgl": [
           {
            "colorbar": {
             "outlinewidth": 0,
             "ticks": ""
            },
            "colorscale": [
             [
              0,
              "#0d0887"
             ],
             [
              0.1111111111111111,
              "#46039f"
             ],
             [
              0.2222222222222222,
              "#7201a8"
             ],
             [
              0.3333333333333333,
              "#9c179e"
             ],
             [
              0.4444444444444444,
              "#bd3786"
             ],
             [
              0.5555555555555556,
              "#d8576b"
             ],
             [
              0.6666666666666666,
              "#ed7953"
             ],
             [
              0.7777777777777778,
              "#fb9f3a"
             ],
             [
              0.8888888888888888,
              "#fdca26"
             ],
             [
              1,
              "#f0f921"
             ]
            ],
            "type": "heatmapgl"
           }
          ],
          "histogram": [
           {
            "marker": {
             "pattern": {
              "fillmode": "overlay",
              "size": 10,
              "solidity": 0.2
             }
            },
            "type": "histogram"
           }
          ],
          "histogram2d": [
           {
            "colorbar": {
             "outlinewidth": 0,
             "ticks": ""
            },
            "colorscale": [
             [
              0,
              "#0d0887"
             ],
             [
              0.1111111111111111,
              "#46039f"
             ],
             [
              0.2222222222222222,
              "#7201a8"
             ],
             [
              0.3333333333333333,
              "#9c179e"
             ],
             [
              0.4444444444444444,
              "#bd3786"
             ],
             [
              0.5555555555555556,
              "#d8576b"
             ],
             [
              0.6666666666666666,
              "#ed7953"
             ],
             [
              0.7777777777777778,
              "#fb9f3a"
             ],
             [
              0.8888888888888888,
              "#fdca26"
             ],
             [
              1,
              "#f0f921"
             ]
            ],
            "type": "histogram2d"
           }
          ],
          "histogram2dcontour": [
           {
            "colorbar": {
             "outlinewidth": 0,
             "ticks": ""
            },
            "colorscale": [
             [
              0,
              "#0d0887"
             ],
             [
              0.1111111111111111,
              "#46039f"
             ],
             [
              0.2222222222222222,
              "#7201a8"
             ],
             [
              0.3333333333333333,
              "#9c179e"
             ],
             [
              0.4444444444444444,
              "#bd3786"
             ],
             [
              0.5555555555555556,
              "#d8576b"
             ],
             [
              0.6666666666666666,
              "#ed7953"
             ],
             [
              0.7777777777777778,
              "#fb9f3a"
             ],
             [
              0.8888888888888888,
              "#fdca26"
             ],
             [
              1,
              "#f0f921"
             ]
            ],
            "type": "histogram2dcontour"
           }
          ],
          "mesh3d": [
           {
            "colorbar": {
             "outlinewidth": 0,
             "ticks": ""
            },
            "type": "mesh3d"
           }
          ],
          "parcoords": [
           {
            "line": {
             "colorbar": {
              "outlinewidth": 0,
              "ticks": ""
             }
            },
            "type": "parcoords"
           }
          ],
          "pie": [
           {
            "automargin": true,
            "type": "pie"
           }
          ],
          "scatter": [
           {
            "fillpattern": {
             "fillmode": "overlay",
             "size": 10,
             "solidity": 0.2
            },
            "type": "scatter"
           }
          ],
          "scatter3d": [
           {
            "line": {
             "colorbar": {
              "outlinewidth": 0,
              "ticks": ""
             }
            },
            "marker": {
             "colorbar": {
              "outlinewidth": 0,
              "ticks": ""
             }
            },
            "type": "scatter3d"
           }
          ],
          "scattercarpet": [
           {
            "marker": {
             "colorbar": {
              "outlinewidth": 0,
              "ticks": ""
             }
            },
            "type": "scattercarpet"
           }
          ],
          "scattergeo": [
           {
            "marker": {
             "colorbar": {
              "outlinewidth": 0,
              "ticks": ""
             }
            },
            "type": "scattergeo"
           }
          ],
          "scattergl": [
           {
            "marker": {
             "colorbar": {
              "outlinewidth": 0,
              "ticks": ""
             }
            },
            "type": "scattergl"
           }
          ],
          "scattermapbox": [
           {
            "marker": {
             "colorbar": {
              "outlinewidth": 0,
              "ticks": ""
             }
            },
            "type": "scattermapbox"
           }
          ],
          "scatterpolar": [
           {
            "marker": {
             "colorbar": {
              "outlinewidth": 0,
              "ticks": ""
             }
            },
            "type": "scatterpolar"
           }
          ],
          "scatterpolargl": [
           {
            "marker": {
             "colorbar": {
              "outlinewidth": 0,
              "ticks": ""
             }
            },
            "type": "scatterpolargl"
           }
          ],
          "scatterternary": [
           {
            "marker": {
             "colorbar": {
              "outlinewidth": 0,
              "ticks": ""
             }
            },
            "type": "scatterternary"
           }
          ],
          "surface": [
           {
            "colorbar": {
             "outlinewidth": 0,
             "ticks": ""
            },
            "colorscale": [
             [
              0,
              "#0d0887"
             ],
             [
              0.1111111111111111,
              "#46039f"
             ],
             [
              0.2222222222222222,
              "#7201a8"
             ],
             [
              0.3333333333333333,
              "#9c179e"
             ],
             [
              0.4444444444444444,
              "#bd3786"
             ],
             [
              0.5555555555555556,
              "#d8576b"
             ],
             [
              0.6666666666666666,
              "#ed7953"
             ],
             [
              0.7777777777777778,
              "#fb9f3a"
             ],
             [
              0.8888888888888888,
              "#fdca26"
             ],
             [
              1,
              "#f0f921"
             ]
            ],
            "type": "surface"
           }
          ],
          "table": [
           {
            "cells": {
             "fill": {
              "color": "#EBF0F8"
             },
             "line": {
              "color": "white"
             }
            },
            "header": {
             "fill": {
              "color": "#C8D4E3"
             },
             "line": {
              "color": "white"
             }
            },
            "type": "table"
           }
          ]
         },
         "layout": {
          "annotationdefaults": {
           "arrowcolor": "#2a3f5f",
           "arrowhead": 0,
           "arrowwidth": 1
          },
          "autotypenumbers": "strict",
          "coloraxis": {
           "colorbar": {
            "outlinewidth": 0,
            "ticks": ""
           }
          },
          "colorscale": {
           "diverging": [
            [
             0,
             "#8e0152"
            ],
            [
             0.1,
             "#c51b7d"
            ],
            [
             0.2,
             "#de77ae"
            ],
            [
             0.3,
             "#f1b6da"
            ],
            [
             0.4,
             "#fde0ef"
            ],
            [
             0.5,
             "#f7f7f7"
            ],
            [
             0.6,
             "#e6f5d0"
            ],
            [
             0.7,
             "#b8e186"
            ],
            [
             0.8,
             "#7fbc41"
            ],
            [
             0.9,
             "#4d9221"
            ],
            [
             1,
             "#276419"
            ]
           ],
           "sequential": [
            [
             0,
             "#0d0887"
            ],
            [
             0.1111111111111111,
             "#46039f"
            ],
            [
             0.2222222222222222,
             "#7201a8"
            ],
            [
             0.3333333333333333,
             "#9c179e"
            ],
            [
             0.4444444444444444,
             "#bd3786"
            ],
            [
             0.5555555555555556,
             "#d8576b"
            ],
            [
             0.6666666666666666,
             "#ed7953"
            ],
            [
             0.7777777777777778,
             "#fb9f3a"
            ],
            [
             0.8888888888888888,
             "#fdca26"
            ],
            [
             1,
             "#f0f921"
            ]
           ],
           "sequentialminus": [
            [
             0,
             "#0d0887"
            ],
            [
             0.1111111111111111,
             "#46039f"
            ],
            [
             0.2222222222222222,
             "#7201a8"
            ],
            [
             0.3333333333333333,
             "#9c179e"
            ],
            [
             0.4444444444444444,
             "#bd3786"
            ],
            [
             0.5555555555555556,
             "#d8576b"
            ],
            [
             0.6666666666666666,
             "#ed7953"
            ],
            [
             0.7777777777777778,
             "#fb9f3a"
            ],
            [
             0.8888888888888888,
             "#fdca26"
            ],
            [
             1,
             "#f0f921"
            ]
           ]
          },
          "colorway": [
           "#636efa",
           "#EF553B",
           "#00cc96",
           "#ab63fa",
           "#FFA15A",
           "#19d3f3",
           "#FF6692",
           "#B6E880",
           "#FF97FF",
           "#FECB52"
          ],
          "font": {
           "color": "#2a3f5f"
          },
          "geo": {
           "bgcolor": "white",
           "lakecolor": "white",
           "landcolor": "#E5ECF6",
           "showlakes": true,
           "showland": true,
           "subunitcolor": "white"
          },
          "hoverlabel": {
           "align": "left"
          },
          "hovermode": "closest",
          "mapbox": {
           "style": "light"
          },
          "paper_bgcolor": "white",
          "plot_bgcolor": "#E5ECF6",
          "polar": {
           "angularaxis": {
            "gridcolor": "white",
            "linecolor": "white",
            "ticks": ""
           },
           "bgcolor": "#E5ECF6",
           "radialaxis": {
            "gridcolor": "white",
            "linecolor": "white",
            "ticks": ""
           }
          },
          "scene": {
           "xaxis": {
            "backgroundcolor": "#E5ECF6",
            "gridcolor": "white",
            "gridwidth": 2,
            "linecolor": "white",
            "showbackground": true,
            "ticks": "",
            "zerolinecolor": "white"
           },
           "yaxis": {
            "backgroundcolor": "#E5ECF6",
            "gridcolor": "white",
            "gridwidth": 2,
            "linecolor": "white",
            "showbackground": true,
            "ticks": "",
            "zerolinecolor": "white"
           },
           "zaxis": {
            "backgroundcolor": "#E5ECF6",
            "gridcolor": "white",
            "gridwidth": 2,
            "linecolor": "white",
            "showbackground": true,
            "ticks": "",
            "zerolinecolor": "white"
           }
          },
          "shapedefaults": {
           "line": {
            "color": "#2a3f5f"
           }
          },
          "ternary": {
           "aaxis": {
            "gridcolor": "white",
            "linecolor": "white",
            "ticks": ""
           },
           "baxis": {
            "gridcolor": "white",
            "linecolor": "white",
            "ticks": ""
           },
           "bgcolor": "#E5ECF6",
           "caxis": {
            "gridcolor": "white",
            "linecolor": "white",
            "ticks": ""
           }
          },
          "title": {
           "x": 0.05
          },
          "xaxis": {
           "automargin": true,
           "gridcolor": "white",
           "linecolor": "white",
           "ticks": "",
           "title": {
            "standoff": 15
           },
           "zerolinecolor": "white",
           "zerolinewidth": 2
          },
          "yaxis": {
           "automargin": true,
           "gridcolor": "white",
           "linecolor": "white",
           "ticks": "",
           "title": {
            "standoff": 15
           },
           "zerolinecolor": "white",
           "zerolinewidth": 2
          }
         }
        },
        "title": {
         "text": "SYNTH - Price and Volume (5s bars)"
        },
        "xaxis": {
         "anchor": "y",
         "domain": [
          0,
          1
         ],
         "matches": "x2",
         "rangeslider": {
          "visible": false
         },
         "showticklabels": false
        },
        "xaxis2": {
         "anchor": "y2",
         "domain": [
          0,
          1
         ],
         "title": {
          "text": "Time"
         }
        },
        "yaxis": {
         "anchor": "x",
         "domain": [
          0.32099999999999995,
          0.9999999999999999
         ],
         "title": {
          "text": "Price ($)"
         }
        },
        "yaxis2": {
         "anchor": "x2",
         "domain": [
          0,
          0.291
         ],
         "title": {
          "text": "Volume"
         }
        }
       }
      }
     },
     "metadata": {},
     "output_type": "display_data"
    }
   ],
   "source": [
    "# Create subplots for price and volume\n",
    "from plotly.subplots import make_subplots\n",
    "\n",
    "fig = make_subplots(\n",
    "    rows=2, cols=1,\n",
    "    shared_xaxes=True,\n",
    "    vertical_spacing=0.03,\n",
    "    subplot_titles=('Price', 'Volume'),\n",
    "    row_heights=[0.7, 0.3]\n",
    ")\n",
    "\n",
    "# Add candlestick\n",
    "fig.add_trace(\n",
    "    go.Candlestick(\n",
    "        x=ohlc_5s.index,\n",
    "        open=ohlc_5s['open'],\n",
    "        high=ohlc_5s['high'],\n",
    "        low=ohlc_5s['low'],\n",
    "        close=ohlc_5s['close'],\n",
    "        name='Price'\n",
    "    ),\n",
    "    row=1, col=1\n",
    ")\n",
    "\n",
    "# Add volume bars\n",
    "fig.add_trace(\n",
    "    go.Bar(\n",
    "        x=ohlc_5s.index,\n",
    "        y=ohlc_5s['volume'],\n",
    "        name='Volume',\n",
    "        marker_color='rgba(0, 150, 255, 0.6)'\n",
    "    ),\n",
    "    row=2, col=1\n",
    ")\n",
    "\n",
    "fig.update_layout(\n",
    "    title='SYNTH - Price and Volume (5s bars)',\n",
    "    height=800,\n",
    "    xaxis_rangeslider_visible=False,\n",
    "    showlegend=False\n",
    ")\n",
    "\n",
    "fig.update_yaxes(title_text='Price ($)', row=1, col=1)\n",
    "fig.update_yaxes(title_text='Volume', row=2, col=1)\n",
    "fig.update_xaxes(title_text='Time', row=2, col=1)\n",
    "\n",
    "fig.show()"
   ]
  },
  {
   "cell_type": "markdown",
   "metadata": {},
   "source": [
    "## Price Distribution"
   ]
  },
  {
   "cell_type": "code",
   "execution_count": 8,
   "metadata": {},
   "outputs": [
    {
     "data": {
      "image/png": "[encoded data removed]",
      "text/plain": [
       "<Figure size 1400x500 with 2 Axes>"
      ]
     },
     "metadata": {},
     "output_type": "display_data"
    }
   ],
   "source": [
    "# Plot price distribution\n",
    "fig, axes = plt.subplots(1, 2, figsize=(14, 5))\n",
    "\n",
    "# Histogram\n",
    "axes[0].hist(df['price'], bins=50, edgecolor='black', alpha=0.7)\n",
    "axes[0].set_xlabel('Price ($)')\n",
    "axes[0].set_ylabel('Frequency')\n",
    "axes[0].set_title('Price Distribution')\n",
    "axes[0].axvline(df['price'].mean(), color='red', linestyle='--', label=f'Mean: ${df[\"price\"].mean():.2f}')\n",
    "axes[0].axvline(df['price'].median(), color='green', linestyle='--', label=f'Median: ${df[\"price\"].median():.2f}')\n",
    "axes[0].legend()\n",
    "axes[0].grid(alpha=0.3)\n",
    "\n",
    "# Volume distribution\n",
    "axes[1].hist(df['volume'], bins=50, edgecolor='black', alpha=0.7, color='orange')\n",
    "axes[1].set_xlabel('Volume')\n",
    "axes[1].set_ylabel('Frequency')\n",
    "axes[1].set_title('Volume Distribution')\n",
    "axes[1].axvline(df['volume'].mean(), color='red', linestyle='--', label=f'Mean: {df[\"volume\"].mean():.0f}')\n",
    "axes[1].axvline(df['volume'].median(), color='green', linestyle='--', label=f'Median: {df[\"volume\"].median():.0f}')\n",
    "axes[1].legend()\n",
    "axes[1].grid(alpha=0.3)\n",
    "\n",
    "plt.tight_layout()\n",
    "plt.show()"
   ]
  },
  {
   "cell_type": "markdown",
   "metadata": {},
   "source": [
    "## Returns Analysis"
   ]
  },
  {
   "cell_type": "code",
   "execution_count": 9,
   "metadata": {},
   "outputs": [
    {
     "name": "stdout",
     "output_type": "stream",
     "text": [
      "Returns Statistics (5s bars):\n",
      "  Mean Return: -0.9337%\n",
      "  Std Dev: 1.4291%\n",
      "  Min Return: -3.3083%\n",
      "  Max Return: 2.0005%\n",
      "  Skewness: 0.0629\n",
      "  Kurtosis: -0.7029\n"
     ]
    },
    {
     "data": {
      "image/png": "[encoded data removed]",
      "text/plain": [
       "<Figure size 1400x500 with 2 Axes>"
      ]
     },
     "metadata": {},
     "output_type": "display_data"
    }
   ],
   "source": [
    "# Calculate returns on 5s OHLC data\n",
    "ohlc_5s['returns'] = ohlc_5s['close'].pct_change() * 100\n",
    "\n",
    "print(\"Returns Statistics (5s bars):\")\n",
    "print(f\"  Mean Return: {ohlc_5s['returns'].mean():.4f}%\")\n",
    "print(f\"  Std Dev: {ohlc_5s['returns'].std():.4f}%\")\n",
    "print(f\"  Min Return: {ohlc_5s['returns'].min():.4f}%\")\n",
    "print(f\"  Max Return: {ohlc_5s['returns'].max():.4f}%\")\n",
    "print(f\"  Skewness: {ohlc_5s['returns'].skew():.4f}\")\n",
    "print(f\"  Kurtosis: {ohlc_5s['returns'].kurtosis():.4f}\")\n",
    "\n",
    "# Plot returns distribution\n",
    "fig, axes = plt.subplots(1, 2, figsize=(14, 5))\n",
    "\n",
    "# Returns over time\n",
    "axes[0].plot(ohlc_5s.index, ohlc_5s['returns'], alpha=0.7, linewidth=0.8)\n",
    "axes[0].axhline(0, color='red', linestyle='--', alpha=0.5)\n",
    "axes[0].set_xlabel('Time')\n",
    "axes[0].set_ylabel('Returns (%)')\n",
    "axes[0].set_title('5-Second Returns Over Time')\n",
    "axes[0].grid(alpha=0.3)\n",
    "\n",
    "# Returns histogram\n",
    "axes[1].hist(ohlc_5s['returns'].dropna(), bins=50, edgecolor='black', alpha=0.7)\n",
    "axes[1].set_xlabel('Returns (%)')\n",
    "axes[1].set_ylabel('Frequency')\n",
    "axes[1].set_title('Returns Distribution')\n",
    "axes[1].axvline(0, color='red', linestyle='--', alpha=0.5)\n",
    "axes[1].grid(alpha=0.3)\n",
    "\n",
    "plt.tight_layout()\n",
    "plt.show()"
   ]
  },
  {
   "cell_type": "markdown",
   "metadata": {},
   "source": [
    "## Bid-Ask Spread Analysis"
   ]
  },
  {
   "cell_type": "code",
   "execution_count": 10,
   "metadata": {},
   "outputs": [
    {
     "data": {
      "image/png": "[encoded data removed]",
      "text/plain": [
       "<Figure size 1400x800 with 2 Axes>"
      ]
     },
     "metadata": {},
     "output_type": "display_data"
    }
   ],
   "source": [
    "# Analyze bid-ask spread over time\n",
    "fig, axes = plt.subplots(2, 1, figsize=(14, 8))\n",
    "\n",
    "# Spread over time\n",
    "axes[0].plot(df.index, df['spread'], alpha=0.6, linewidth=0.5)\n",
    "axes[0].axhline(df['spread'].mean(), color='red', linestyle='--', label=f'Mean: ${df[\"spread\"].mean():.4f}')\n",
    "axes[0].set_xlabel('Time')\n",
    "axes[0].set_ylabel('Spread ($)')\n",
    "axes[0].set_title('Bid-Ask Spread Over Time')\n",
    "axes[0].legend()\n",
    "axes[0].grid(alpha=0.3)\n",
    "\n",
    "# Spread distribution\n",
    "axes[1].hist(df['spread'], bins=50, edgecolor='black', alpha=0.7)\n",
    "axes[1].set_xlabel('Spread ($)')\n",
    "axes[1].set_ylabel('Frequency')\n",
    "axes[1].set_title('Spread Distribution')\n",
    "axes[1].axvline(df['spread'].mean(), color='red', linestyle='--', label=f'Mean: ${df[\"spread\"].mean():.4f}')\n",
    "axes[1].legend()\n",
    "axes[1].grid(alpha=0.3)\n",
    "\n",
    "plt.tight_layout()\n",
    "plt.show()"
   ]
  },
  {
   "cell_type": "markdown",
   "metadata": {},
   "source": [
    "## Summary Statistics Table"
   ]
  },
  {
   "cell_type": "code",
   "execution_count": 11,
   "metadata": {},
   "outputs": [
    {
     "name": "stdout",
     "output_type": "stream",
     "text": [
      "\n",
      "==================================================\n",
      "SUMMARY STATISTICS\n",
      "==================================================\n",
      "                Metric                  Value\n",
      "           Total Ticks                  1,000\n",
      "              Duration 0 days 00:01:39.961000\n",
      "            Mean Price                $140.00\n",
      "           Price Range                 $31.96\n",
      "Price Volatility (std)                $9.3076\n",
      "          Total Volume             17,547,347\n",
      "  Mean Volume per Tick                  17547\n",
      "           Mean Spread                $0.2785\n",
      "     Mean Spread (bps)                  19.89\n"
     ]
    }
   ],
   "source": [
    "# Create summary table\n",
    "summary = pd.DataFrame({\n",
    "    'Metric': [\n",
    "        'Total Ticks',\n",
    "        'Duration',\n",
    "        'Mean Price',\n",
    "        'Price Range',\n",
    "        'Price Volatility (std)',\n",
    "        'Total Volume',\n",
    "        'Mean Volume per Tick',\n",
    "        'Mean Spread',\n",
    "        'Mean Spread (bps)',\n",
    "    ],\n",
    "    'Value': [\n",
    "        f\"{len(df):,}\",\n",
    "        f\"{df.index.max() - df.index.min()}\",\n",
    "        f\"${df['price'].mean():.2f}\",\n",
    "        f\"${df['price'].max() - df['price'].min():.2f}\",\n",
    "        f\"${df['price'].std():.4f}\",\n",
    "        f\"{df['volume'].sum():,}\",\n",
    "        f\"{df['volume'].mean():.0f}\",\n",
    "        f\"${df['spread'].mean():.4f}\",\n",
    "        f\"{(df['spread'].mean() / df['price'].mean() * 10000):.2f}\",\n",
    "    ]\n",
    "})\n",
    "\n",
    "print(\"\\n\" + \"=\"*50)\n",
    "print(\"SUMMARY STATISTICS\")\n",
    "print(\"=\"*50)\n",
    "print(summary.to_string(index=False))"
   ]
  },
  {
   "cell_type": "code",
   "execution_count": null,
   "metadata": {},
   "outputs": [],
   "source": []
  }
 ],
 "metadata": {
  "kernelspec": {
   "display_name": "Python 3",
   "language": "python",
   "name": "python3"
  },
  "language_info": {
   "codemirror_mode": {
    "name": "ipython",
    "version": 3
   },
   "file_extension": ".py",
   "mimetype": "text/x-python",
   "name": "python",
   "nbconvert_exporter": "python",
   "pygments_lexer": "ipython3",
   "version": "3.12.6"
  }
 },
 "nbformat": 4,
 "nbformat_minor": 4
}
